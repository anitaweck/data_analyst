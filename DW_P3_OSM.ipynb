{
 "cells": [
  {
   "cell_type": "markdown",
   "metadata": {},
   "source": [
    "# OpenStreetMap Sample Project - Data Wrangling with MongoDB"
   ]
  },
  {
   "cell_type": "markdown",
   "metadata": {},
   "source": [
    "Anita Weck (Map Area: District Bad Kreuznach - Rhinelande Palatinate - Germany"
   ]
  },
  {
   "cell_type": "markdown",
   "metadata": {},
   "source": [
    "https://www.openstreetmap.org/#map=12/49.8241/7.7436"
   ]
  },
  {
   "cell_type": "markdown",
   "metadata": {},
   "source": []
  },
  {
   "cell_type": "markdown",
   "metadata": {
    "collapsed": false,
    "scrolled": true
   },
   "source": [
    "## Problems encountered in the map"
   ]
  },
  {
   "cell_type": "markdown",
   "metadata": {},
   "source": [
    "After downloading the open street map area of the district of Bad Kreuznach, shaping and importing it in MongoDB I realized the following problems:\n",
    "- city names are doubled because of misspelled spelling letters (wrong 'hein' vs. correct 'heim'), different case styles (small letters vs. case-sensitive style), different style in using white spaces before and after a hyphen (wrong 'Bad Sobernheim-Steinhardt' vs. 'Bad Sobernheim - Steinhard; here also wrong naming of city district)\n",
    "- inconsistent street names (wrong 'strasse' vs. correct 'straße) in german style of street naming\n",
    "- german characters are not encoded correctly"
   ]
  },
  {
   "cell_type": "markdown",
   "metadata": {},
   "source": [
    "### City names"
   ]
  },
  {
   "cell_type": "markdown",
   "metadata": {},
   "source": [
    "Firstly the data are audited after reshaping the tags for MongoDB. By using the following aggregrate function the problems for city names above are encountered."
   ]
  },
  {
   "cell_type": "code",
   "execution_count": null,
   "metadata": {
    "collapsed": true
   },
   "outputs": [],
   "source": [
    "> db.P3_Meddersheim_Germany.aggregate([{\"$match\":{\"address.city\":{\"$exists\":1}}},{\"$group\":{\"_id\":\"$address.city\"}},{\"$sort\":{\"_id\":1}}])"
   ]
  },
  {
   "cell_type": "markdown",
   "metadata": {},
   "source": [
    "The problems look like this in the output:"
   ]
  },
  {
   "cell_type": "markdown",
   "metadata": {},
   "source": [
    "<br>...</br>\n",
    "<br>{ \"_id\" : \"Bad Kreuznach\" }</br>\n",
    "<br>{ \"_id\" : \"Bad Kreuznach - Rüdesheim\" }</br>\n",
    "<br>{ \"_id\" : \"Bad Münster\" }</br>\n",
    "<br>{ \"_id\" : \"Bad Münster am Stei<ins>n-E</ins>bernburg\" }</br>\n",
    "<br>{ \"_id\" : \"Bad Sobernheim\" }</br>\n",
    "<br>{ \"_id\" : \"Bad Sobernheim<ins> - </ins>Steinhard\" }</br>\n",
    "<br>{ \"_id\" : \"Bad Sobernhei<ins>m-S</ins>teinhardt\" }</br>\n",
    "<br>{ \"_id\" : \"Bad Sobernhei<ins>n</ins>\" }</br>\n",
    "<br>...</br>\n",
    "<br>{ \"_id\" : \"<ins>b</ins>ad Kreuznach\" }</br>"
   ]
  },
  {
   "cell_type": "markdown",
   "metadata": {},
   "source": [
    "The result after cleaning looks like this in the database after the new json-file is red in."
   ]
  },
  {
   "cell_type": "markdown",
   "metadata": {},
   "source": [
    "<br>...</br>\n",
    "<br>{ \"_id\" : \"Bad Kreuznach\" }</br>\n",
    "<br>{ \"_id\" : \"Bad Kreuznach - Rüdesheim\" }</br>\n",
    "<br>{ \"_id\" : \"Bad Münster\" }</br>\n",
    "<br>{ \"_id\" : \"Bad Münster am Stein - Ebernburg\" }</br>\n",
    "<br>{ \"_id\" : \"Bad Sobernheim\" }</br>\n",
    "<br>{ \"_id\" : \"Bad Sobernheim - Steinhard\" }</br>\n",
    "<br>{ \"_id\" : \"Bad Sobernheim - Steinhardt\" }</br>\n",
    "<br>...</br>"
   ]
  },
  {
   "cell_type": "markdown",
   "metadata": {},
   "source": [
    "The chosen way of cleaning these city names is done via defining a pattern and checking it against a regular expression.\n",
    "Therefor that very often the string 'hein' appears in this example osm-dataset (and in most cases is correct) a check for the this pattern at the end of string was made.\n",
    "The string 'bad' starts with a small letter, but should start with a capital letter (in this dataset 'bad' does not appear in another meaning that's why a check for only the beginning of a string with a whitespace was renounced).\n",
    "The last problem which was solved was the inconsistency in "
   ]
  },
  {
   "cell_type": "code",
   "execution_count": null,
   "metadata": {
    "collapsed": true
   },
   "outputs": [],
   "source": [
    "#pattern definitions for wrangling address contents\n",
    "p_wrangle = re.compile(\"(?=hein$)\", re.IGNORECASE)\n",
    "p_bad = re.compile(\"bad\")\n",
    "p_line = re.compile(\"\\w-\\w\")\n",
    "# correct city names spelling mistakes, sensitive style and consistent hyphen whitespacing\n",
    "if child_name[0] == \"city\":\n",
    "    if re.search(p_wrangle,child.get('v')) != None:\n",
    "        child_content = child.get('v')\n",
    "        child_content_new = child_content.replace(\"hein\", \"heim\")\n",
    "    elif re.search(p_bad,child.get('v')) != None:\n",
    "        child_content = child.get('v')\n",
    "        child_content_new = child_content.replace(\"bad\", \"Bad\")\n",
    "    elif re.search(p_line, child.get('v')) != None:\n",
    "        child_content = child.get('v')\n",
    "        child_content_new = child_content.replace(\"-\",\" - \") \n",
    "    if child_content_new != None:\n",
    "        add_address[\"city\"] = child_content_new"
   ]
  },
  {
   "cell_type": "markdown",
   "metadata": {},
   "source": [
    "### Street names"
   ]
  },
  {
   "cell_type": "markdown",
   "metadata": {},
   "source": [
    "By auditing the database for a typical german mistake in street naming by the following aggregate function, using \"$regex\" for finding a string,"
   ]
  },
  {
   "cell_type": "code",
   "execution_count": null,
   "metadata": {
    "collapsed": true
   },
   "outputs": [],
   "source": [
    "> db.P3_Meddersheim_Germany.aggregate([{\"$match\":{\"address.street\":{\"$regex\":\"strasse\"}}},{\"$group\":{\"_id\":\"$address.street\",\"count\":{\"$sum\":1}}},{\"$sort\":{\"_id\":1}}])"
   ]
  },
  {
   "cell_type": "markdown",
   "metadata": {},
   "source": [
    "shows that typical inconsistency:"
   ]
  },
  {
   "cell_type": "markdown",
   "metadata": {},
   "source": [
    "{ \"_id\" : \"Winzerstra<ins>ss</ins>e\", \"count\" : 1 }"
   ]
  },
  {
   "cell_type": "markdown",
   "metadata": {
    "collapsed": true
   },
   "source": [
    "Versus the other correct street names:"
   ]
  },
  {
   "cell_type": "code",
   "execution_count": null,
   "metadata": {
    "collapsed": true
   },
   "outputs": [],
   "source": [
    "> db.P3_Meddersheim_Germany_2.aggregate([{\"$match\":{\"address.street\":{\"$regex\":\"straße\"}}},{\"$group\":{\"_id\":\"$address.street\",\"count\":{\"$sum\":1}}},{\"$sort\":{\"_id\":1}}])"
   ]
  },
  {
   "cell_type": "markdown",
   "metadata": {},
   "source": [
    "<br>{ \"_id\" : \"Altmühlenstraße\", \"count\" : 18 }</br>\n",
    "<br>{ \"_id\" : \"Bachstraße\", \"count\" : 18 }</br>\n",
    "<br>...</br>"
   ]
  },
  {
   "cell_type": "markdown",
   "metadata": {},
   "source": [
    "The problem was solved via a consistent exchanging of the wrong string (pattern definition) with the correct string (containing the german letter 'ß') in the following way. A check was done with the aggregate function again, which does not bring back a result for the expression {\"$regex\":\"strasse\"}."
   ]
  },
  {
   "cell_type": "code",
   "execution_count": null,
   "metadata": {
    "collapsed": true
   },
   "outputs": [],
   "source": [
    "#pattern definitions for wrangling address contents\n",
    "p_street = re.compile(\"strasse\")\n",
    "# conistent street naming, use always german characters\n",
    "if child_name[0] == \"street\":\n",
    "    if re.search(p_street,child.get('v')) != None:\n",
    "        print child_name, child.get('v')\n",
    "        child_content = child.get('v')\n",
    "        child_content_new = child_content.replace(\"strasse\", \"straße\")\n",
    "        print p_wrangle, child_content_new\n",
    "        add_address[\"street\"] = child_content_new"
   ]
  },
  {
   "cell_type": "markdown",
   "metadata": {},
   "source": [
    "This special character problem is solved with the coding definition explained in the following chapter."
   ]
  },
  {
   "cell_type": "markdown",
   "metadata": {},
   "source": [
    "### Encoding for german letters "
   ]
  },
  {
   "cell_type": "markdown",
   "metadata": {
    "collapsed": true
   },
   "source": [
    "To ensure the correct encoding of german letters (like 'ß') and to avoid and exception when executing the python-code"
   ]
  },
  {
   "cell_type": "code",
   "execution_count": null,
   "metadata": {
    "collapsed": true
   },
   "outputs": [],
   "source": [
    "child_content_new = child_content.replace(\"strasse\", \"straße\")"
   ]
  },
  {
   "cell_type": "markdown",
   "metadata": {},
   "source": [
    "the coding definition at the beginning of the py-file is necessary to ensure correct encoding for the json-object-file and compiling of the code."
   ]
  },
  {
   "cell_type": "code",
   "execution_count": null,
   "metadata": {
    "collapsed": true
   },
   "outputs": [],
   "source": [
    "# -*- coding: utf-8 -*-"
   ]
  },
  {
   "cell_type": "markdown",
   "metadata": {},
   "source": [
    "### No problems are found in the postal codes"
   ]
  },
  {
   "cell_type": "markdown",
   "metadata": {},
   "source": [
    "The postcodes are correct and consistent at least for the included cities in the chosen map. This was checked with the following function."
   ]
  },
  {
   "cell_type": "code",
   "execution_count": null,
   "metadata": {
    "collapsed": true
   },
   "outputs": [],
   "source": [
    "> db.P3_Meddersheim_Germany_2.aggregate([{\"$match\":{\"address.postcode\":{\"$exists\":1}}},{\"$group\":{\"_id\":\"$address.postcode\",\"city\":{\"$addToSet\":\"$address.city\"}}},{\"$sort\":{\"address.postcode\":1}}])"
   ]
  },
  {
   "cell_type": "markdown",
   "metadata": {},
   "source": [
    "<br>{ \"_id\" : \"55450\", \"city\" : [ \"Bad Kreuznach - Rüdesheim\", \"Langenlonsheim\" ] }</br>\n",
    "<br>{ \"_id\" : \"55559\", \"city\" : [ \"Altenbamberg\", \"Bretzenheim\" ] }</br>\n",
    "<br>{ \"_id\" : \"55568\", \"city\" : [ \"Bad Kreuznach\", \"Bad Sobernheim\", \"Staudernheim\" ] }</br>\n",
    "<br>{ \"_id\" : \"67826\", \"city\" : [ \"Bad Kreuznach\", \"Hallgarten\" ] }</br>\n",
    "<br>{ \"_id\" : \"55571\", \"city\" : [ \"Bad Sobernheim\", \"Odernheim\" ] }</br>\n",
    "<br>{ \"_id\" : \"55595\", \"city\" : [ \"Allenfeld\", \"Bad Kreuznach - Rüdesheim\", \"Mandel\", \"Hargesheim\", \"Winterbach\", \"Spall\", \"Weinsheim\", \"Argenschwang\", \"Sommerloch\", \"Boos\", \"Bad Kreuznach\", \"Roxheim\", \"Bad Sobernheim\", \"Traisen\" ] }</br>\n",
    "<br>{ \"_id\" : \"55585\", \"city\" : [ \"Bad Kreuznach\", \"Altenbamberg\", \"Niederhausen\" ] }</br>\n",
    "<br>{ \"_id\" : \"55543\", \"city\" : [ \"Hargesheim\", \"Spall\", \"Rüdesheim\", \"Bad Kreuznach\", \"Bad Münster\", \"Bad Sobernheim\", \"Traisen\", \"Bad Sobernheim - Steinhard\" ] }</br>\n",
    "<br>{ \"_id\" : \"55545\", \"city\" : [ \"Winzenheim\", \"Rüdesheim\", \"Hargesheim\", \"Bad Sobernheim - Steinhard\", \"Bad Kreuznach\" ] }</br>\n",
    "<br>{ \"_id\" : \"55569\", \"city\" : [ \"Auen\", \"Monzingen\" ] }</br>\n",
    "<br>{ \"_id\" : \"55596\", \"city\" : [ \"Schloßböckelheim - Kolonie\", \"Oberstreit\", \"Waldböckelheim\" ] }</br>\n",
    "<br>{ \"_id\" : \"55546\", \"city\" : [ \"Fürfeld\" ] }</br>\n",
    "<br>{ \"_id\" : \"55452\", \"city\" : [ \"Norheim\", \"Guldental\" ] }</br>\n",
    "<br>{ \"_id\" : \"55593\", \"city\" : [ \"Staudernheim\", \"Rüdesheim\" ] }</br>\n",
    "<br>{ \"_id\" : \"67824\", \"city\" : [ \"Feilbingert\" ] }</br>\n",
    "<br>{ \"_id\" : \"55566\", \"city\" : [ \"Bad Sobernheim - Steinhardt\", \"Ippenschied\", \"Meddersheim\", \"Waldböckelheim\", \"Bad Sobernheim - Steinhard\", \"Daubach\", \"Bad Sobernheim\", \"Schloßböckelheim - Kolonie\", \"Bad Kreuznach\" ] }</br>\n",
    "<br>{ \"_id\" : \"55583\", \"city\" : [ \"Bad Sobernheim\", \"Bad Münster\", \"Bad Kreuznach - Rüdesheim\", \"Bad Münster am Stein - Ebernburg\" ] }</br>"
   ]
  },
  {
   "cell_type": "code",
   "execution_count": null,
   "metadata": {
    "collapsed": true
   },
   "outputs": [],
   "source": [
    "eim_Germany.aggregate([{\"$match\":{\"address.postcode\":{\"$exists\":1}}},{\"$group\":{\"_id\":\"$address.postcode\",\"count\":{\"$sum\":1}}},{\"$sort\":{\"count\":1}}])"
   ]
  },
  {
   "cell_type": "markdown",
   "metadata": {},
   "source": [
    "### Shaping of json data elements"
   ]
  },
  {
   "cell_type": "markdown",
   "metadata": {
    "collapsed": true
   },
   "source": [
    "Separate the 'addr:'-tag by splitting at the separator colon. The method is called from 'def shape_element(element):'"
   ]
  },
  {
   "cell_type": "code",
   "execution_count": null,
   "metadata": {
    "collapsed": true
   },
   "outputs": [],
   "source": [
    "#separate definition in case 'addr:' is available in different data types\n",
    "def address_element(child_name, child):\n",
    "    child_name = child_name.replace(\"addr:\",\"\")\n",
    "    child_name = child_name.split(\":\")\n",
    "    if len(child_name)<2:\n",
    "        add_address[child_name[0]] = child.get('v')\n",
    "    return add_address"
   ]
  },
  {
   "cell_type": "markdown",
   "metadata": {
    "collapsed": true
   },
   "source": [
    "Define needed arrays and dictionary for further re-shaping, splitting and organizing the original xml-data and preparing for writing in json-format. At last get type of tag. I tried this type of coding to try a two different ways of re-shaping data. This is only for 'addr:'-tags. Below I used the separator 'colon'for shaping the 'tag'-tags. Main idea was to separat the 'contact:'-data in an own dictionary."
   ]
  },
  {
   "cell_type": "code",
   "execution_count": null,
   "metadata": {
    "collapsed": true
   },
   "outputs": [],
   "source": [
    "def shape_element(element):\n",
    "    node = {}\n",
    "    openGeoDB = {}\n",
    "    auto_update = []\n",
    "    is_in = []\n",
    "    position = []\n",
    "    node_refs = []\n",
    "    relation_member_attrib = []\n",
    "    relation_member = []\n",
    "    add_created = {}\n",
    "    tag_sep = []\n",
    "    tag_sep_dict = {}\n",
    "    relation_tag_attrib = {}\n",
    "    child_name = None\n",
    "    #set type of parsed data based on tag\n",
    "    if element.tag ==\"bounds\" or element.tag == \"note\" or element.tag == \"meta\" or element.tag == \"osm\" or\\\n",
    "    element.tag == \"node\" or element.tag == \"way\" or element.tag == \"relation\":\n",
    "        node[\"type\"] = element.tag"
   ]
  },
  {
   "cell_type": "markdown",
   "metadata": {
    "collapsed": true
   },
   "source": [
    "Just to complete get information from tags in xml-file which only appear once."
   ]
  },
  {
   "cell_type": "code",
   "execution_count": null,
   "metadata": {
    "collapsed": true
   },
   "outputs": [],
   "source": [
    "# get information from tags which only appear once\n",
    "    if element.tag ==\"bounds\" or element.tag == \"note\" or element.tag == \"meta\" or element.tag == \"osm\":\n",
    "        if element.tag == \"note\":\n",
    "            node[element.tag] = element.text\n",
    "        else:\n",
    "            node[element.tag] = element.attrib\n",
    "            #print node"
   ]
  },
  {
   "cell_type": "markdown",
   "metadata": {
    "collapsed": true
   },
   "source": [
    "Ensure to get all 'openGeoDB' tags, even those with small letters. Prepare for later separation of this tag and saving in own dictionary 'openGeoDB'."
   ]
  },
  {
   "cell_type": "code",
   "execution_count": null,
   "metadata": {
    "collapsed": true
   },
   "outputs": [],
   "source": [
    "#shape data\n",
    "    for child in element:\n",
    "        child_name = child.get('k')\n",
    "        p = re.compile('openGeoDB:', re.IGNORECASE)     "
   ]
  },
  {
   "cell_type": "markdown",
   "metadata": {
    "collapsed": true
   },
   "source": [
    "Prepare all data within 'is_in' within an array. Split at separator comma. There is also another 'is_in' field within 'openGeoDB'. Put also an array there, but also export this field to json-format."
   ]
  },
  {
   "cell_type": "code",
   "execution_count": null,
   "metadata": {
    "collapsed": true
   },
   "outputs": [],
   "source": [
    "#put data in an array, because it is a list of descriptive location\n",
    "        if child_name == \"is_in\":\n",
    "            is_in = child.get('v').split(',')\n",
    "            node[child_name]=is_in       "
   ]
  },
  {
   "cell_type": "markdown",
   "metadata": {
    "collapsed": true
   },
   "source": [
    "The xml-data from 'auto_update' are stored in the array 'auto_update' and splitted by the separator comma. Further the same is done for 'is_in' and both information are stored within the dictionary 'openGeoDB'.\n",
    "The position data from all tags are taken from the longitude and latitude information and put together in the array 'position'. Also stored in the dictionary 'openGeoDB' within the dictionary 'node'."
   ]
  },
  {
   "cell_type": "code",
   "execution_count": null,
   "metadata": {
    "collapsed": true
   },
   "outputs": [],
   "source": [
    "# get all data which contain 'openGeoDB' also in small letters\n",
    "        elif child_name != None and re.search(p,child_name) != None:\n",
    "            child_name = p.sub(\"\", child_name)\n",
    "            if child_name == 'auto_update':\n",
    "                auto_update = child.get('v').split(',')\n",
    "                openGeoDB[child_name]=auto_update\n",
    "            elif child_name == \"is_in\":\n",
    "                is_in = child.get('v').split(',')\n",
    "                openGeoDB[child_name]=is_in\n",
    "            elif child_name == 'lat':\n",
    "                position.append(float(child.get('v')))\n",
    "            elif child_name == 'lon':\n",
    "                position.append(float(child.get('v')))\n",
    "            else:\n",
    "                openGeoDB[child_name] = child.get('v')\n",
    "            # put latitude and longitude data in an array which are inside 'openGeoDB' data\n",
    "            openGeoDB['position'] = position\n",
    "            node['openGeoDB'] = openGeoDB\n",
    "            #print node"
   ]
  },
  {
   "cell_type": "markdown",
   "metadata": {
    "collapsed": true
   },
   "source": [
    "Put all reference information from separate xml-tags together in one array 'node_refs'."
   ]
  },
  {
   "cell_type": "code",
   "execution_count": null,
   "metadata": {
    "collapsed": true
   },
   "outputs": [],
   "source": [
    "#check all data which contain a 'ref'-tag\n",
    "        elif child.get('ref') != None:\n",
    "                node_refs.append(child.get('ref'))\n",
    "                node['node_refs'] = node_refs       "
   ]
  },
  {
   "cell_type": "markdown",
   "metadata": {
    "collapsed": true
   },
   "source": [
    "Here the 'def address-element(child_name, child)' is called to re-shape the tag 'addr:'. Furthermore separate the other other information by the separator colon and use value before first separator and value after last separator for defining information in json-format.\n",
    "Otherwise use tag with 'k'(key)-information and 'v'(value)-information for creating key-value pairs in key-value-dictionary whithin 'tag' dictionary. Keep 'tag' as separate dictionary because at least 'type' is also available as key in node-dictionary.\n",
    "Main idead was to separate the 'contact:'-data in an own dictionary to reach easier email and phone information from contact dictionary."
   ]
  },
  {
   "cell_type": "code",
   "execution_count": null,
   "metadata": {
    "collapsed": true
   },
   "outputs": [],
   "source": [
    "#shape all data in 'tag'-tag because some names are the same like in nodes => type, so cluster 'tag' is kept\n",
    "        elif child.tag == \"tag\":\n",
    "            child_name = child.get('k')\n",
    "            #shape address data in dictionary address\n",
    "            if child_name != None and child.get('k').startswith(\"addr:\"):\n",
    "                add_address = address_element(child_name, child)\n",
    "                node[\"address\"]=add_address\n",
    "            #shape all other data which use ':' as a separator depending on amount of this separator\n",
    "            elif re.search(':', child_name) != None:\n",
    "                tag_sep = child_name.split(':')\n",
    "                i.append(len(tag_sep))\n",
    "                if len(tag_sep) == 2:\n",
    "                    tag_sep_dict[tag_sep[1]] = child.get('v') \n",
    "                    node[tag_sep[0]] = tag_sep_dict\n",
    "                elif len(tag_sep) == 3:\n",
    "                    tag_sep_dict[tag_sep[2]] = child.get('v') \n",
    "                    node[tag_sep[0]] = tag_sep_dict\n",
    "                elif len(tag_sep) == 4:\n",
    "                    tag_sep_dict[tag_sep[3]] = child.get('v') \n",
    "                    node[tag_sep[0]] = tag_sep_dict   \n",
    "            else:\n",
    "                relation_tag_attrib[child.get('k')] = child.get('v')\n",
    "                node['tag'] = relation_tag_attrib         "
   ]
  },
  {
   "cell_type": "markdown",
   "metadata": {
    "collapsed": true
   },
   "source": [
    "Get member data and shape for json-format."
   ]
  },
  {
   "cell_type": "code",
   "execution_count": null,
   "metadata": {
    "collapsed": true
   },
   "outputs": [],
   "source": [
    "#shape 'member'-tag data in dicitionary 'member' inside dictionary node\n",
    "        elif child.tag == \"member\":\n",
    "                #print child.get('type')\n",
    "                relation_member_attrib = child.get('type'), child.get('ref'), child.get('role')\n",
    "                relation_member.append(relation_member_attrib)\n",
    "                node['member'] = relation_member\n",
    "        else:\n",
    "            if child_name != None:\n",
    "                node[child_name]=child.get('v')"
   ]
  },
  {
   "cell_type": "markdown",
   "metadata": {
    "collapsed": true
   },
   "source": [
    "Put header-information together in a dictionary 'created'. Like done in lesson 6 - Case Study."
   ]
  },
  {
   "cell_type": "code",
   "execution_count": null,
   "metadata": {
    "collapsed": true
   },
   "outputs": [],
   "source": [
    "#shape tag header-data in 'CREATED' dictionary, see lesson 6 - Case Study - OpenStreetMap data\n",
    "    for elem in element.attrib:\n",
    "        for entry in CREATED:\n",
    "            if elem == entry and elem != None:\n",
    "                if element.get(entry) != None:\n",
    "                    add_created[elem] = element.get(entry)\n",
    "            elif elem == \"id\" and elem != None:\n",
    "                if element.get(elem) != None:\n",
    "                    node[elem] = element.get(elem) "
   ]
  },
  {
   "cell_type": "markdown",
   "metadata": {
    "collapsed": true
   },
   "source": [
    "Shape longitude and latitude data in node dictionary in an array 'position'. These data define the position of each node."
   ]
  },
  {
   "cell_type": "code",
   "execution_count": null,
   "metadata": {
    "collapsed": true
   },
   "outputs": [],
   "source": [
    "#shape position data in positin array for each data-element\n",
    "    if element.get != None and element.get('lat') or element.get('lon'):\n",
    "        position = []\n",
    "        position.append(float(element.get('lat')))   \n",
    "        position.append(float(element.get('lon')))\n",
    "        node[\"pos\"]= position\n",
    "    if len(add_created) > 1:\n",
    "        node[\"created\"] = add_created\n",
    "    return node"
   ]
  },
  {
   "cell_type": "markdown",
   "metadata": {},
   "source": [
    "## Statistical Overview"
   ]
  },
  {
   "cell_type": "markdown",
   "metadata": {},
   "source": [
    "This section contains basic statistics about the dataset and the MongoDB queries used to gather them."
   ]
  },
  {
   "cell_type": "markdown",
   "metadata": {},
   "source": [
    "#### Collection size "
   ]
  },
  {
   "cell_type": "code",
   "execution_count": null,
   "metadata": {
    "collapsed": true
   },
   "outputs": [],
   "source": [
    "> db.P3_Meddersheim_Germany_2.dataSize()"
   ]
  },
  {
   "cell_type": "markdown",
   "metadata": {},
   "source": [
    "61912037 bytes"
   ]
  },
  {
   "cell_type": "markdown",
   "metadata": {},
   "source": [
    "#### Number of documents in the database 'DW_P3_OSM_after':"
   ]
  },
  {
   "cell_type": "code",
   "execution_count": null,
   "metadata": {
    "collapsed": true
   },
   "outputs": [],
   "source": [
    "> db.P3_Meddersheim_Germany_2.find().count()"
   ]
  },
  {
   "cell_type": "markdown",
   "metadata": {},
   "source": [
    "255247"
   ]
  },
  {
   "cell_type": "markdown",
   "metadata": {},
   "source": [
    "#### Number of the different types (nodes, ways, relations, osm, meta, bounds, note) in descending order sorted:"
   ]
  },
  {
   "cell_type": "code",
   "execution_count": null,
   "metadata": {
    "collapsed": false
   },
   "outputs": [],
   "source": [
    "> db.P3_Meddersheim_Germany_2.aggregate([{\"$group\":{\"_id\":\"$type\",\"count\":{\"$sum\":1}}},{\"$sort\":{\"count\":-1}}])"
   ]
  },
  {
   "cell_type": "markdown",
   "metadata": {},
   "source": [
    "<br>{ \"_id\" : \"node\", \"count\" : 218983 }</br>\n",
    "<br>{ \"_id\" : \"way\", \"count\" : 35578 }</br>\n",
    "<br>{ \"_id\" : \"relation\", \"count\" : 682 }</br>\n",
    "<br>{ \"_id\" : \"osm\", \"count\" : 1 }</br>\n",
    "<br>{ \"_id\" : \"meta\", \"count\" : 1 }</br>\n",
    "<br>{ \"_id\" : \"bounds\", \"count\" : 1 }</br>\n",
    "<br>{ \"_id\" : \"note\", \"count\" : 1 }</br>"
   ]
  },
  {
   "cell_type": "markdown",
   "metadata": {},
   "source": [
    "#### Number of unique users are:"
   ]
  },
  {
   "cell_type": "code",
   "execution_count": null,
   "metadata": {
    "collapsed": true
   },
   "outputs": [],
   "source": [
    "> db.P3_Meddersheim_Germany_2.distinct(\"created.uid\").length"
   ]
  },
  {
   "cell_type": "markdown",
   "metadata": {},
   "source": [
    "484"
   ]
  },
  {
   "cell_type": "markdown",
   "metadata": {},
   "source": [
    "#### Top 3 contributing users are:"
   ]
  },
  {
   "cell_type": "code",
   "execution_count": null,
   "metadata": {
    "collapsed": true
   },
   "outputs": [],
   "source": [
    "> db.P3_Meddersheim_Germany_2.aggregate([{\"$group\":{\"_id\":\"$created.user\",\"count\":{\"$sum\":1}}},{\"$sort\":{\"count\":-1}},{\"$limit\":3}])"
   ]
  },
  {
   "cell_type": "markdown",
   "metadata": {},
   "source": [
    "<br>{ \"_id\" : \"poppei82\", \"count\" : 65353 }</br>\n",
    "<br>{ \"_id\" : \"paelzer\", \"count\" : 40887 }</br>\n",
    "<br>{ \"_id\" : \"chrisber\", \"count\" : 31151 }</br>"
   ]
  },
  {
   "cell_type": "markdown",
   "metadata": {},
   "source": [
    "#### Additional queries "
   ]
  },
  {
   "cell_type": "markdown",
   "metadata": {},
   "source": [
    "4. Call query for getting wineries from OpenStreetMap-data\n",
    "5. Number of chosen types of nodes"
   ]
  },
  {
   "cell_type": "code",
   "execution_count": 3,
   "metadata": {
    "collapsed": false,
    "scrolled": false
   },
   "outputs": [
    {
     "name": "stdout",
     "output_type": "stream",
     "text": [
      "{u'_id': ObjectId('5686ecf1cf4e09e2ffdb0808'),\n",
      " u'address': {u'city': u'Monzingen',\n",
      "              u'country': u'DE',\n",
      "              u'housenumber': u'23',\n",
      "              u'postcode': u'55569',\n",
      "              u'street': u'Soonwaldstra\\xdfe'},\n",
      " u'contact': {u'fax': u'+49 6751 94705', u'phone': u'+49 6751 3847'},\n",
      " u'created': {u'changeset': u'13478987',\n",
      "              u'timestamp': u'2012-10-13T13:23:36Z',\n",
      "              u'uid': u'39424',\n",
      "              u'user': u'atressel',\n",
      "              u'version': u'7'},\n",
      " u'id': u'385151392',\n",
      " u'pos': [49.8019191, 7.5910752],\n",
      " u'tag': {u'landuse': u'farmyard',\n",
      "          u'name': u'Weingut Jaeger',\n",
      "          u'shop': u'winery',\n",
      "          u'tourism': u'wine_cellar'},\n",
      " u'type': u'node'}\n",
      "{u'_id': ObjectId('5686ecf1cf4e09e2ffdb2fa2'),\n",
      " u'created': {u'changeset': u'4214878',\n",
      "              u'timestamp': u'2010-03-23T18:51:38Z',\n",
      "              u'uid': u'234214',\n",
      "              u'user': u'Anubis85',\n",
      "              u'version': u'1'},\n",
      " u'id': u'672850551',\n",
      " u'pos': [49.8228991, 7.8193516],\n",
      " u'tag': {u'name': u'Weingut Pleitz',\n",
      "          u'shop': u'winery',\n",
      "          u'tourism': u'wine_cellar'},\n",
      " u'type': u'node'}\n",
      "{u'_id': ObjectId('5686ecf2cf4e09e2ffdb4416'),\n",
      " u'address': {u'city': u'Monzingen',\n",
      "              u'country': u'DE',\n",
      "              u'housenumber': u'12',\n",
      "              u'postcode': u'55569',\n",
      "              u'street': u'R\\xf6merstra\\xdfe'},\n",
      " u'contact': {u'email': u'weingut-schauss@web.de',\n",
      "              u'fax': u'+49 6751 6860',\n",
      "              u'phone': u'+49 6751 2882',\n",
      "              u'website': u'http://www.weingut-schauss.de'},\n",
      " u'created': {u'changeset': u'13478827',\n",
      "              u'timestamp': u'2012-10-13T13:08:53Z',\n",
      "              u'uid': u'39424',\n",
      "              u'user': u'atressel',\n",
      "              u'version': u'6'},\n",
      " u'id': u'835588154',\n",
      " u'pos': [49.8011835, 7.5894586],\n",
      " u'tag': {u'landuse': u'farmyard',\n",
      "          u'name': u'Weingut Schau\\xdf',\n",
      "          u'shop': u'winery',\n",
      "          u'tourism': u'wine_cellar'},\n",
      " u'type': u'node'}\n",
      "{u'_id': ObjectId('5686ecf4cf4e09e2ffdc0b0b'),\n",
      " u'address': {u'city': u'Monzingen',\n",
      "              u'country': u'DE',\n",
      "              u'housename': u'Living Room',\n",
      "              u'housenumber': u'10a',\n",
      "              u'postcode': u'55569',\n",
      "              u'street': u'Soonwaldstra\\xdfe'},\n",
      " u'contact': {u'email': u'weingut@emrich-schoenleber.com',\n",
      "              u'fax': u'+49 6751 4864',\n",
      "              u'phone': u'+49 6751 2733',\n",
      "              u'website': u'http://www.emrich-schoenleber.de'},\n",
      " u'created': {u'changeset': u'13478827',\n",
      "              u'timestamp': u'2012-10-13T13:08:52Z',\n",
      "              u'uid': u'39424',\n",
      "              u'user': u'atressel',\n",
      "              u'version': u'5'},\n",
      " u'id': u'1415935208',\n",
      " u'pos': [49.7969803, 7.5899494],\n",
      " u'tag': {u'landuse': u'farmyard',\n",
      "          u'name': u'Weingut Emrich-Sch\\xf6nleber',\n",
      "          u'shop': u'winery',\n",
      "          u'tourism': u'wine_cellar'},\n",
      " u'type': u'node'}\n",
      "{u'_id': ObjectId('5686ecf4cf4e09e2ffdc0b0c'),\n",
      " u'address': {u'city': u'Monzingen',\n",
      "              u'country': u'DE',\n",
      "              u'housename': u'Living Room',\n",
      "              u'housenumber': u'34',\n",
      "              u'postcode': u'55569',\n",
      "              u'street': u'Soonwaldstra\\xdfe'},\n",
      " u'contact': {u'email': u'weingut.heinrich@t-online.de',\n",
      "              u'fax': u'+49 6751 950731',\n",
      "              u'phone': u'+49 6751 2151',\n",
      "              u'website': u'http://www.weingutheinrich.de'},\n",
      " u'created': {u'changeset': u'13478987',\n",
      "              u'timestamp': u'2012-10-13T13:23:36Z',\n",
      "              u'uid': u'39424',\n",
      "              u'user': u'atressel',\n",
      "              u'version': u'4'},\n",
      " u'id': u'1415935210',\n",
      " u'pos': [49.8032976, 7.5904476],\n",
      " u'tag': {u'landuse': u'farmyard',\n",
      "          u'name': u'Weingut Heinrich',\n",
      "          u'shop': u'winery',\n",
      "          u'tourism': u'wine_cellar'},\n",
      " u'type': u'node'}\n",
      "{u'_id': ObjectId('5686ecf4cf4e09e2ffdc0b0d'),\n",
      " u'address': {u'city': u'Monzingen',\n",
      "              u'country': u'DE',\n",
      "              u'housename': u'Living Room',\n",
      "              u'housenumber': u'41',\n",
      "              u'postcode': u'55569',\n",
      "              u'street': u'Soonwaldstra\\xdfe'},\n",
      " u'contact': {u'email': u'info@weingut-udo-weber.de',\n",
      "              u'fax': u'+49 6751 2076',\n",
      "              u'phone': u'+49 6751 3278',\n",
      "              u'website': u'http://www.weingut-udo-weber.de'},\n",
      " u'created': {u'changeset': u'13478987',\n",
      "              u'timestamp': u'2012-10-13T13:23:36Z',\n",
      "              u'uid': u'39424',\n",
      "              u'user': u'atressel',\n",
      "              u'version': u'5'},\n",
      " u'id': u'1415935217',\n",
      " u'pos': [49.803987, 7.5891891],\n",
      " u'tag': {u'landuse': u'farmyard',\n",
      "          u'name': u'Weingut Weber',\n",
      "          u'shop': u'winery',\n",
      "          u'tourism': u'wine_cellar'},\n",
      " u'type': u'node'}\n",
      "{u'_id': ObjectId('5686ecf4cf4e09e2ffdc0c2b'),\n",
      " u'address': {u'city': u'Monzingen',\n",
      "              u'country': u'DE',\n",
      "              u'housename': u'Living Room',\n",
      "              u'housenumber': u'67',\n",
      "              u'postcode': u'55569',\n",
      "              u'street': u'Hauptstra\\xdfe'},\n",
      " u'contact': {u'email': u'info@weingut-alt.de',\n",
      "              u'phone': u'+49 6751 94560',\n",
      "              u'website': u'www.weingut-alt.de'},\n",
      " u'created': {u'changeset': u'16517308',\n",
      "              u'timestamp': u'2013-06-11T23:06:44Z',\n",
      "              u'uid': u'461945',\n",
      "              u'user': u'poppei82',\n",
      "              u'version': u'6'},\n",
      " u'id': u'1426340194',\n",
      " u'pos': [49.8004004, 7.5912087],\n",
      " u'tag': {u'landuse': u'farmyard',\n",
      "          u'name': u'Weingut Alt',\n",
      "          u'shop': u'winery',\n",
      "          u'tourism': u'attraction'},\n",
      " u'type': u'node'}\n",
      "{u'_id': ObjectId('5686ecffcf4e09e2ffde163e'),\n",
      " u'created': {u'changeset': u'33053769',\n",
      "              u'timestamp': u'2015-08-02T18:16:35Z',\n",
      "              u'uid': u'104912',\n",
      "              u'user': u'Sir Lancelot',\n",
      "              u'version': u'1'},\n",
      " u'id': u'3677884318',\n",
      " u'pos': [49.865314, 7.810936],\n",
      " u'tag': {u'amenity': u'pub', u'name': u'Weingut Heil', u'shop': u'winery'},\n",
      " u'type': u'node'}\n",
      "[{u'_id': u'bench', u'count': 556},\n",
      " {u'_id': u'parking', u'count': 405},\n",
      " {u'_id': u'restaurant', u'count': 122},\n",
      " {u'_id': u'hunting_stand', u'count': 101},\n",
      " {u'_id': u'place_of_worship', u'count': 98},\n",
      " {u'_id': u'recycling', u'count': 59},\n",
      " {u'_id': u'shelter', u'count': 55},\n",
      " {u'_id': u'school', u'count': 54},\n",
      " {u'_id': u'post_box', u'count': 51},\n",
      " {u'_id': u'bank', u'count': 45},\n",
      " {u'_id': u'kindergarten', u'count': 33},\n",
      " {u'_id': u'fountain', u'count': 30},\n",
      " {u'_id': u'telephone', u'count': 28},\n",
      " {u'_id': u'fast_food', u'count': 27},\n",
      " {u'_id': u'pub', u'count': 27},\n",
      " {u'_id': u'cafe', u'count': 27},\n",
      " {u'_id': u'fire_station', u'count': 25},\n",
      " {u'_id': u'doctors', u'count': 23},\n",
      " {u'_id': u'pharmacy', u'count': 20},\n",
      " {u'_id': u'fuel', u'count': 20},\n",
      " {u'_id': u'toilets', u'count': 19},\n",
      " {u'_id': u'townhall', u'count': 19},\n",
      " {u'_id': u'grave_yard', u'count': 18},\n",
      " {u'_id': u'community_centre', u'count': 18},\n",
      " {u'_id': u'social_facility', u'count': 15},\n",
      " {u'_id': u'bbq', u'count': 14},\n",
      " {u'_id': u'public_building', u'count': 11},\n",
      " {u'_id': u'hospital', u'count': 10},\n",
      " {u'_id': u'vending_machine', u'count': 10},\n",
      " {u'_id': u'dentist', u'count': 9},\n",
      " {u'_id': u'post_office', u'count': 9},\n",
      " {u'_id': u'car_wash', u'count': 8},\n",
      " {u'_id': u'atm', u'count': 8},\n",
      " {u'_id': u'veterinary', u'count': 7},\n",
      " {u'_id': u'bar', u'count': 7},\n",
      " {u'_id': u'biergarten', u'count': 7},\n",
      " {u'_id': u'swimming_pool', u'count': 6},\n",
      " {u'_id': u'bicycle_parking', u'count': 6},\n",
      " {u'_id': u'grit_bin', u'count': 5},\n",
      " {u'_id': u'arts_centre', u'count': 4},\n",
      " {u'_id': u'bus_station', u'count': 3},\n",
      " {u'_id': u'courthouse', u'count': 3},\n",
      " {u'_id': u'police', u'count': 3},\n",
      " {u'_id': u'driving_school', u'count': 3},\n",
      " {u'_id': u'library', u'count': 3},\n",
      " {u'_id': u'waste_disposal', u'count': 3},\n",
      " {u'_id': u'ferry_terminal', u'count': 2},\n",
      " {u'_id': u'casino', u'count': 2},\n",
      " {u'_id': u'clock', u'count': 2},\n",
      " {u'_id': u'food_court', u'count': 2},\n",
      " {u'_id': u'drinking_water', u'count': 2},\n",
      " {u'_id': u'taxi', u'count': 2},\n",
      " {u'_id': u'nursing_home', u'count': 1},\n",
      " {u'_id': u'nightclub', u'count': 1},\n",
      " {u'_id': u'community_center', u'count': 1},\n",
      " {u'_id': u'sanitary_dump_station', u'count': 1},\n",
      " {u'_id': u'baby_hatch', u'count': 1},\n",
      " {u'_id': u'marketplace', u'count': 1},\n",
      " {u'_id': u'bureau_de_change', u'count': 1},\n",
      " {u'_id': u'cinema', u'count': 1},\n",
      " {u'_id': u'emergency_service', u'count': 1},\n",
      " {u'_id': u'waste_basket', u'count': 1},\n",
      " {u'_id': u'car_rental', u'count': 1},\n",
      " {u'_id': u'theatre', u'count': 1},\n",
      " {u'_id': u'blood_donation', u'count': 1},\n",
      " {u'_id': u'charging_station', u'count': 1},\n",
      " {u'_id': u'ambulance_station', u'count': 1},\n",
      " {u'_id': u'rescue_station', u'count': 1},\n",
      " {u'_id': u'studio', u'count': 1},\n",
      " {u'_id': u'parking_space', u'count': 1},\n",
      " {u'_id': u'animal_shelter', u'count': 1},\n",
      " {u'_id': u'brothel', u'count': 1},\n",
      " {u'_id': u'winery', u'count': 1}]\n"
     ]
    }
   ],
   "source": [
    "import pprint\n",
    "from pymongo import MongoClient\n",
    "\n",
    "def get_db():    \n",
    "    client = MongoClient('localhost',27017)\n",
    "    db = client['test']\n",
    "    coll = db.P3_Meddersheim_Germany\n",
    "    return db\n",
    "\n",
    "#getting wineries \n",
    "def range_query():\n",
    "    query = {\"tag.shop\":\"winery\"}\n",
    "    return query\n",
    "    \n",
    "#getting types of nodes  \n",
    "def make_pipeline():\n",
    "    pipeline = []\n",
    "    #count types of nodes and get them\n",
    "    pipeline = [{\"$match\":{\"type\":\"node\",\"type\":{\"$ne\":None},\"tag.amenity\":{\"$ne\":None}}},\n",
    "                {\"$group\":{\"_id\":\"$tag.amenity\",\"count\":{\"$sum\":1}}},\n",
    "                {\"$sort\":{\"count\":-1}}]\n",
    "    #alternative pipeline for checking which type is the right one\n",
    "    #pipeline = [{\"$match\":{\"openGeoDB.type\":{\"$ne\":None}}},\n",
    "    #            {\"$group\":{\"_id\":\"$openGeoDB.type\",\"count\":{\"$sum\":1}}},\n",
    "    #            {\"$sort\":{\"count\":-1}}]\n",
    "    #print pipeline\n",
    "    return pipeline\n",
    "\n",
    "def osm_sources(db, pipeline):\n",
    "    return [doc for doc in db.P3_Meddersheim_Germany.aggregate(pipeline)]\n",
    "\n",
    "if __name__ == '__main__':\n",
    "    #read_file(street_map_file)\n",
    "    db = get_db()\n",
    "    pipeline = make_pipeline()\n",
    "    query = range_query()\n",
    "    result_id = db.P3_Meddersheim_Germany.find(query)\n",
    "    result = osm_sources(db, pipeline)\n",
    "    for r in result_id:\n",
    "        pprint.pprint(r)\n",
    "    pprint.pprint(result)"
   ]
  },
  {
   "cell_type": "markdown",
   "metadata": {},
   "source": [
    "# Other ideas about the datasets"
   ]
  },
  {
   "cell_type": "markdown",
   "metadata": {},
   "source": [
    "The field 'is_in' is available twice in the dictionary node and seems to contain the same data. The second time it is stored in node => openGeoDB => is_in dictionary and could be checked if those data are really the same compared to what is directly stored in node => is_in."
   ]
  },
  {
   "cell_type": "markdown",
   "metadata": {},
   "source": [
    "The contact data could be grouped according to the 'amenity or shop'-type and contacted for services (e. g. winery services and equipment, vineyard or restaurants support, holiday and tourism service)."
   ]
  },
  {
   "cell_type": "markdown",
   "metadata": {},
   "source": [
    "Further spelling mistakes can be resolved (e. g. { \"_id\" : \"Bad Sobernheim - Steinhard\" })."
   ]
  },
  {
   "cell_type": "markdown",
   "metadata": {},
   "source": [
    "The population is described in two elements within 'node': \"tag.population\" and \"openGeoDB.population\". This redundant information can be reduced to a single source of information. For checking the size of population and where the most of the people live in this region the data should be available as integer values and not strings."
   ]
  },
  {
   "cell_type": "markdown",
   "metadata": {},
   "source": [
    "Additionally the postal codes are available in in the 'openGeoDB.postal_codes' section beside 'address.postcode'. This could be reduced to one field or a pattern might be identified for matching the area code with the zip code. Also an alignment of zip codes with area codes for increasing the efficiency in e. g. glass fibre installation or digitalisation of the postal service via localization with a uniform id usage might be worth for research."
   ]
  },
  {
   "cell_type": "code",
   "execution_count": null,
   "metadata": {
    "collapsed": true
   },
   "outputs": [],
   "source": [
    "> db.P3_Meddersheim_Germany_2.aggregate([{\"$match\":{\"openGeoDB.postal_codes\":{\"$exists\":1}}},{\"$project\":{\"_id\":0,\"openGeoDB.postal_codes\":1,\"openGeoDB.telephone_area_code\":1}},{\"$group\":{\"_id\":\"$openGeoDB.telephone_area_code\",\"postcode\":{\"$addToSet\":\"$openGeoDB.postal_codes\"},\"count\":{\"$sum\":1}}},{\"$sort\":{\"count\":1}}])"
   ]
  },
  {
   "cell_type": "markdown",
   "metadata": {},
   "source": [
    "<br>{ \"_id\" : \"06754\", \"postcode\" : [ \"55569\" ], \"count\" : 1 }</br>\n",
    "<br>{ \"_id\" : \"06755\", \"postcode\" : [ \"55571\" ], \"count\" : 1 }</br>\n",
    "<br>{ \"_id\" : \"06362\", \"postcode\" : [ \"67826\" ], \"count\" : 1 }</br>\n",
    "<br>{ \"_id\" : \"06756\", \"postcode\" : [ \"55595\" ], \"count\" : 2 }</br>\n",
    "<br>{ \"_id\" : \"06758\", \"postcode\" : [ \"55596\" ], \"count\" : 5 }</br>\n",
    "<br>{ \"_id\" : \"06708\", \"postcode\" : [ \"55583\", \"55585\", \"55595\" ], \"count\" : 6 }</br>\n",
    "<br>{ \"_id\" : \"06751\", \"postcode\" : [ \"55568\", \"55569\", \"55595\", \"55566\" ], \"count\" : 7 }</br>\n",
    "<br>{ \"_id\" : \"0671\", \"postcode\" : [ \"55546\", \"55593\", \"55595\", \"55545,55543\" ], \"count\" : 16 }</br>"
   ]
  },
  {
   "cell_type": "markdown",
   "metadata": {},
   "source": [
    "## Additional data exploration using MongoDB queries "
   ]
  },
  {
   "cell_type": "markdown",
   "metadata": {},
   "source": [
    "Localization of locations with highest population - the source of these data might be questionable for checking correctness and usage as a reliable source for concentration of population (e. g. checking amount of people living per qm)."
   ]
  },
  {
   "cell_type": "code",
   "execution_count": null,
   "metadata": {
    "collapsed": true
   },
   "outputs": [],
   "source": [
    "> db.P3_Meddersheim_Germany_2.aggregate([{\"$match\":{\"openGeoDB.name\":{\"$exists\":1}}},{\"$project\":{\"_id\":0,\"openGeoDB.name\":1,\"openGeoDB.population\":1}},{\"$sort\":{\"population\":-1}}])"
   ]
  },
  {
   "cell_type": "markdown",
   "metadata": {},
   "source": [
    "<br>...</br>\n",
    "<br>{ \"openGeoDB\" : { \"name\" : \"Hargesheim\", \"population\" : \"2890\" } }</br>\n",
    "<br>{ \"openGeoDB\" : { \"name\" : \"Braunweiler\", \"population\" : \"616\" } }</br>\n",
    "<br>...</br>"
   ]
  },
  {
   "cell_type": "markdown",
   "metadata": {},
   "source": [
    "Available recycling types in the region e. g. for identification what is missing in this region and why"
   ]
  },
  {
   "cell_type": "code",
   "execution_count": null,
   "metadata": {
    "collapsed": true
   },
   "outputs": [],
   "source": [
    "> db.P3_Meddersheim_Germany_2.aggregate([{\"$match\":{\"tag.recycling_type\":{\"$exists\":1}}},{\"$group\":{\"_id\":\"$tag.recycling_type\",\"count\":{\"$sum\":1}}},{\"$sort\":{\"count\":-1}}])"
   ]
  },
  {
   "cell_type": "markdown",
   "metadata": {},
   "source": [
    "<br>{ \"_id\" : \"container\", \"count\" : 32 }</br>\n",
    "<br>{ \"_id\" : \"centre\", \"count\" : 2 }</br>"
   ]
  },
  {
   "cell_type": "markdown",
   "metadata": {},
   "source": [
    "Available recycling groups - checking for regrouping and types of recycle stuff. Additional data like frequency of bringing stuff to these places supports the frequency of emptying the containers and transport the recycle things to the recycle centres. The scheduling for the waste management can be optimized and e. g. set in relation to population close to recycling places. "
   ]
  },
  {
   "cell_type": "code",
   "execution_count": null,
   "metadata": {
    "collapsed": true
   },
   "outputs": [],
   "source": [
    "> db.P3_Meddersheim_Germany_2.aggregate([{\"$match\":{\"tag.recycling_type\":{\"$exists\":1}}},{\"$group\":{\"_id\":\"$tag.recycling_type\",\"type\":{\"$addToSet\":\"$recycling\"},\"count\":{\"$sum\":1}}},{\"$sort\":{\"count\":-1}}])"
   ]
  },
  {
   "cell_type": "markdown",
   "metadata": {},
   "source": [
    "{ \"_id\" : \"container\", \"type\" : [ { \"green_waste\" : \"no\", \"cartons\" : \"no\", \"small_appliances\" : \"no\", \"plastic_bottles\" : \"no\", \"wood\" : \"no\", \"plastic_packaging\" : \"no\", \"scrap_metal\" : \"no\", \"glass_bottles\" : \"no\", \"plastic\" : \"no\", \"paper\" : \"no\", \"glass\" : \"no\", \"batteries\" : \"no\", \"books\" : \"no\", \"magazines\" : \"no\", \"cans\" : \"no\", \"newspaper\" : \"no\", \"waste\" : \"no\", \"cardboard\" : \"no\", \"electrical_appliances\" : \"no\", \"paper_packaging\" : \"no\", \"clothes\" : \"yes\" }, { \"green_waste\" : \"no\", \"cartons\" : \"no\", \"small_appliances\" : \"no\", \"plastic_bottles\" : \"no\", \"wood\" : \"no\", \"scrap_metal\" : \"no\", \"glass_bottles\" : \"yes\", \"plastic\" : \"no\", \"paper\" : \"no\", \"glass\" : \"yes\", \"batteries\" : \"no\", \"books\" : \"no\", \"magazines\" : \"no\", \"cans\" : \"no\", \"newspaper\" : \"no\", \"waste\" : \"no\", \"cardboard\" : \"no\", \"electrical_appliances\" : \"no\", \"paper_packaging\" : \"no\", \"plastic_packaging\" : \"no\" }, { \"glass_bottles\" : \"no\", \"clothes\" : \"yes\" }, { \"clothes\" : \"yes\" }, { \"glass\" : \"no\", \"glass_bottles\" : \"yes\", \"clothes\" : \"yes\" }, { \"glass_bottles\" : \"yes\", \"clothes\" : \"yes\" }, { \"glass_bottles\" : \"yes\", \"clothes\" : \"no\" }, { \"glass\" : \"yes\" }, { \"glass\" : \"yes\", \"clothes\" : \"no\" }, { \"glass_bottles\" : \"yes\" }, { \"glass\" : \"yes\", \"clothes\" : \"yes\" } ], \"count\" : 32 }\n",
    "{ \"_id\" : \"centre\", \"type\" : [ { \"garden_waste\" : \"yes\" } ], \"count\" : 2 }"
   ]
  },
  {
   "cell_type": "markdown",
   "metadata": {},
   "source": [
    "# Conclusion"
   ]
  },
  {
   "cell_type": "markdown",
   "metadata": {},
   "source": [
    "The dataset provides a lot of useful information in different directions (e. g. wineries, population, position information, recycling and so on). The dataset is cleaned a bit for this exercise. But further cleaning is obviously necessary. Also a checking of the data quality and entering additional information (e. g. about wineries) is worth it t provide additionally to OpenStreetMap.org.\n",
    "The amount of user entries is not that high. A connection with social media (e. g. facebook) or wine related media (e. g. vivino.de) provides an increase in user entriese because a a lot of events and locations are wine related and published via these media. Also the quality about wine related information might be  improved by using other media s input."
   ]
  },
  {
   "cell_type": "markdown",
   "metadata": {},
   "source": [
    "# Appendix"
   ]
  },
  {
   "cell_type": "markdown",
   "metadata": {},
   "source": [
    "## Statistical Overview without MongoDB Queries"
   ]
  },
  {
   "cell_type": "markdown",
   "metadata": {},
   "source": [
    "0.1 Size of original file\n",
    "0.2 Size of json-file\n",
    "1. Number of nodes, ways and other data\n",
    "2. Number of unique users "
   ]
  },
  {
   "cell_type": "code",
   "execution_count": 6,
   "metadata": {
    "collapsed": false,
    "scrolled": true
   },
   "outputs": [
    {
     "name": "stdout",
     "output_type": "stream",
     "text": [
      "'0.1 Size of original file from OSM [MB]:'\n",
      "50.786579\n",
      "'0.2 Size of json file from OSM [MB]:'\n",
      "72.502022\n",
      "'1. Number of nodes, ways and other data:'\n",
      "{'bounds': 1,\n",
      " 'member': 24704,\n",
      " 'meta': 1,\n",
      " 'nd': 291833,\n",
      " 'node': 218983,\n",
      " 'note': 1,\n",
      " 'osm': 1,\n",
      " 'relation': 682,\n",
      " 'tag': 94015,\n",
      " 'way': 35578}\n",
      "'2. Number if unique users:'\n",
      "484\n"
     ]
    }
   ],
   "source": [
    "# -*- coding: utf-8 -*-\n",
    "# get original file size from exported file \"Meddersheim_Bad-Muenster_Bad-Kreuznach_original\"\n",
    "# get number of data tags from exported file \"Meddersheim_Bad-Muenster_Bad-Kreuznach_original\"\n",
    "# get number of unique users for this dataset\n",
    "'''\n",
    "Created on Dec 6, 2015\n",
    "\n",
    "@author: anita\n",
    "'''\n",
    "\n",
    "import xml.etree.ElementTree as ET\n",
    "import json\n",
    "import pprint\n",
    "import re\n",
    "import os\n",
    "from stat import *\n",
    "\n",
    "street_map_file = \"Meddersheim_Bad-Muenster_Bad-Kreuznach_original\"\n",
    "add_address = {}\n",
    "CREATED = [\"version\", \"changeset\", \"timestamp\", \"user\", \"uid\"]\n",
    "i = []\n",
    "\n",
    "def read_file(street_map_file):\n",
    "    json_data_array = []\n",
    "    dic_tag = {}\n",
    "    users = set()\n",
    "    users = []\n",
    "    file_orig = os.stat(street_map_file) #get statistical information from dataset\n",
    "    file_orig_size = float(file_orig.st_size) #get file size\n",
    "    for event, element in ET.iterparse(street_map_file):\n",
    "        # get user IDs\n",
    "        uid = element.get('uid')\n",
    "        if uid !=None:\n",
    "            users.append(uid)\n",
    "        # count xml-tags\n",
    "        if dic_tag.has_key(element.tag):\n",
    "            dic_tag[element.tag] = dic_tag[element.tag] + 1\n",
    "        else:\n",
    "            dic_tag[element.tag] = 1\n",
    "    users = set(users)\n",
    "    file_json = os.stat(\"P3_Meddersheim_Germany\") #get statistical information from dataset\n",
    "    file_size = float(file_json.st_size) #get file size\n",
    "    pprint.pprint(\"0.1 Size of original file from OSM [MB]:\")\n",
    "    pprint.pprint(file_orig_size/1000000) #get size of the original file in [MB]\n",
    "    pprint.pprint(\"0.2 Size of json file from OSM [MB]:\")\n",
    "    pprint.pprint(file_size/1000000) #get size of the original file in [MB]\n",
    "    pprint.pprint(\"1. Number of nodes, ways and other data:\")\n",
    "    pprint.pprint(dic_tag)\n",
    "    pprint.pprint(\"2. Number if unique users:\")\n",
    "    pprint.pprint(len(users))\n",
    "    return dic_tag, users\n",
    "\n",
    "if __name__ == '__main__':\n",
    "    read_file(street_map_file)"
   ]
  }
 ],
 "metadata": {
  "kernelspec": {
   "display_name": "Python 2",
   "language": "python",
   "name": "python2"
  },
  "language_info": {
   "codemirror_mode": {
    "name": "ipython",
    "version": 2
   },
   "file_extension": ".py",
   "mimetype": "text/x-python",
   "name": "python",
   "nbconvert_exporter": "python",
   "pygments_lexer": "ipython2",
   "version": "2.7.11"
  }
 },
 "nbformat": 4,
 "nbformat_minor": 0
}
