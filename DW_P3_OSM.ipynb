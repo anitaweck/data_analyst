{
 "cells": [
  {
   "cell_type": "markdown",
   "metadata": {},
   "source": [
    "# Statistical Overview about chosen dataset from selected OSMF (Open Street Map File) - 'Meddersheim and surrounding area':"
   ]
  },
  {
   "cell_type": "markdown",
   "metadata": {},
   "source": [
    "0. Size of original file\n",
    "1. Number of nodes, ways and other data\n",
    "2. Number of unique users "
   ]
  },
  {
   "cell_type": "code",
   "execution_count": 15,
   "metadata": {
    "collapsed": false,
    "scrolled": true
   },
   "outputs": [
    {
     "name": "stdout",
     "output_type": "stream",
     "text": [
      "'Size of original file from OSM [MB]:'\n",
      "50.786579\n",
      "'Number of nodes, ways and other data:'\n",
      "{'bounds': 1,\n",
      " 'member': 24704,\n",
      " 'meta': 1,\n",
      " 'nd': 291833,\n",
      " 'node': 218983,\n",
      " 'note': 1,\n",
      " 'osm': 1,\n",
      " 'relation': 682,\n",
      " 'tag': 94015,\n",
      " 'way': 35578}\n",
      "'Number if unique users:'\n",
      "484\n"
     ]
    }
   ],
   "source": [
    "# -*- coding: utf-8 -*-\n",
    "# get original file size from exported file \"Meddersheim_Bad-Muenster_Bad-Kreuznach_original\"\n",
    "# get number of data tags from exported file \"Meddersheim_Bad-Muenster_Bad-Kreuznach_original\"\n",
    "# get number of unique users for this dataset\n",
    "'''\n",
    "Created on Dec 6, 2015\n",
    "\n",
    "@author: anita\n",
    "'''\n",
    "\n",
    "import xml.etree.ElementTree as ET\n",
    "import pprint\n",
    "import os\n",
    "from stat import *\n",
    "\n",
    "street_map_file = \"Meddersheim_Bad-Muenster_Bad-Kreuznach_original\"\n",
    "    \n",
    "def read_file(street_map_file):\n",
    "    dic_tag = {}\n",
    "    users = []\n",
    "    file_orig = os.stat(street_map_file) #get statistical information from dataset\n",
    "    file_orig_size = float(file_orig.st_size) #get file size\n",
    "    for event, element in ET.iterparse(street_map_file):\n",
    "        # get user IDs\n",
    "        uid = element.get('uid')\n",
    "        if uid !=None:\n",
    "            users.append(uid)\n",
    "        # count xml-tags\n",
    "        if dic_tag.has_key(element.tag):\n",
    "            dic_tag[element.tag] = dic_tag[element.tag] + 1\n",
    "        else:\n",
    "            dic_tag[element.tag] = 1\n",
    "    users = set(users)\n",
    "    pprint.pprint(\"0. Size of original file from OSM [MB]:\")\n",
    "    pprint.pprint(file_orig_size/1000000) #get size of file in [MB]\n",
    "    pprint.pprint(\"1. Number of nodes, ways and other data:\")\n",
    "    pprint.pprint(dic_tag)\n",
    "    pprint.pprint(\"2. Number if unique users:\")\n",
    "    pprint.pprint(len(users))\n",
    "    return dic_tag, users\n",
    "\n",
    "if __name__ == '__main__':\n",
    "    read_file(street_map_file)"
   ]
  },
  {
   "cell_type": "markdown",
   "metadata": {},
   "source": [
    "4. Call query for getting wineries from OpenStreetMap-data\n",
    "5. Number of chosen types of nodes"
   ]
  },
  {
   "cell_type": "code",
   "execution_count": 3,
   "metadata": {
    "collapsed": false,
    "scrolled": true
   },
   "outputs": [
    {
     "name": "stdout",
     "output_type": "stream",
     "text": [
      "{u'_id': ObjectId('5686ecf1cf4e09e2ffdb0808'),\n",
      " u'address': {u'city': u'Monzingen',\n",
      "              u'country': u'DE',\n",
      "              u'housenumber': u'23',\n",
      "              u'postcode': u'55569',\n",
      "              u'street': u'Soonwaldstra\\xdfe'},\n",
      " u'contact': {u'fax': u'+49 6751 94705', u'phone': u'+49 6751 3847'},\n",
      " u'created': {u'changeset': u'13478987',\n",
      "              u'timestamp': u'2012-10-13T13:23:36Z',\n",
      "              u'uid': u'39424',\n",
      "              u'user': u'atressel',\n",
      "              u'version': u'7'},\n",
      " u'id': u'385151392',\n",
      " u'pos': [49.8019191, 7.5910752],\n",
      " u'tag': {u'landuse': u'farmyard',\n",
      "          u'name': u'Weingut Jaeger',\n",
      "          u'shop': u'winery',\n",
      "          u'tourism': u'wine_cellar'},\n",
      " u'type': u'node'}\n",
      "{u'_id': ObjectId('5686ecf1cf4e09e2ffdb2fa2'),\n",
      " u'created': {u'changeset': u'4214878',\n",
      "              u'timestamp': u'2010-03-23T18:51:38Z',\n",
      "              u'uid': u'234214',\n",
      "              u'user': u'Anubis85',\n",
      "              u'version': u'1'},\n",
      " u'id': u'672850551',\n",
      " u'pos': [49.8228991, 7.8193516],\n",
      " u'tag': {u'name': u'Weingut Pleitz',\n",
      "          u'shop': u'winery',\n",
      "          u'tourism': u'wine_cellar'},\n",
      " u'type': u'node'}\n",
      "{u'_id': ObjectId('5686ecf2cf4e09e2ffdb4416'),\n",
      " u'address': {u'city': u'Monzingen',\n",
      "              u'country': u'DE',\n",
      "              u'housenumber': u'12',\n",
      "              u'postcode': u'55569',\n",
      "              u'street': u'R\\xf6merstra\\xdfe'},\n",
      " u'contact': {u'email': u'weingut-schauss@web.de',\n",
      "              u'fax': u'+49 6751 6860',\n",
      "              u'phone': u'+49 6751 2882',\n",
      "              u'website': u'http://www.weingut-schauss.de'},\n",
      " u'created': {u'changeset': u'13478827',\n",
      "              u'timestamp': u'2012-10-13T13:08:53Z',\n",
      "              u'uid': u'39424',\n",
      "              u'user': u'atressel',\n",
      "              u'version': u'6'},\n",
      " u'id': u'835588154',\n",
      " u'pos': [49.8011835, 7.5894586],\n",
      " u'tag': {u'landuse': u'farmyard',\n",
      "          u'name': u'Weingut Schau\\xdf',\n",
      "          u'shop': u'winery',\n",
      "          u'tourism': u'wine_cellar'},\n",
      " u'type': u'node'}\n",
      "{u'_id': ObjectId('5686ecf4cf4e09e2ffdc0b0b'),\n",
      " u'address': {u'city': u'Monzingen',\n",
      "              u'country': u'DE',\n",
      "              u'housename': u'Living Room',\n",
      "              u'housenumber': u'10a',\n",
      "              u'postcode': u'55569',\n",
      "              u'street': u'Soonwaldstra\\xdfe'},\n",
      " u'contact': {u'email': u'weingut@emrich-schoenleber.com',\n",
      "              u'fax': u'+49 6751 4864',\n",
      "              u'phone': u'+49 6751 2733',\n",
      "              u'website': u'http://www.emrich-schoenleber.de'},\n",
      " u'created': {u'changeset': u'13478827',\n",
      "              u'timestamp': u'2012-10-13T13:08:52Z',\n",
      "              u'uid': u'39424',\n",
      "              u'user': u'atressel',\n",
      "              u'version': u'5'},\n",
      " u'id': u'1415935208',\n",
      " u'pos': [49.7969803, 7.5899494],\n",
      " u'tag': {u'landuse': u'farmyard',\n",
      "          u'name': u'Weingut Emrich-Sch\\xf6nleber',\n",
      "          u'shop': u'winery',\n",
      "          u'tourism': u'wine_cellar'},\n",
      " u'type': u'node'}\n",
      "{u'_id': ObjectId('5686ecf4cf4e09e2ffdc0b0c'),\n",
      " u'address': {u'city': u'Monzingen',\n",
      "              u'country': u'DE',\n",
      "              u'housename': u'Living Room',\n",
      "              u'housenumber': u'34',\n",
      "              u'postcode': u'55569',\n",
      "              u'street': u'Soonwaldstra\\xdfe'},\n",
      " u'contact': {u'email': u'weingut.heinrich@t-online.de',\n",
      "              u'fax': u'+49 6751 950731',\n",
      "              u'phone': u'+49 6751 2151',\n",
      "              u'website': u'http://www.weingutheinrich.de'},\n",
      " u'created': {u'changeset': u'13478987',\n",
      "              u'timestamp': u'2012-10-13T13:23:36Z',\n",
      "              u'uid': u'39424',\n",
      "              u'user': u'atressel',\n",
      "              u'version': u'4'},\n",
      " u'id': u'1415935210',\n",
      " u'pos': [49.8032976, 7.5904476],\n",
      " u'tag': {u'landuse': u'farmyard',\n",
      "          u'name': u'Weingut Heinrich',\n",
      "          u'shop': u'winery',\n",
      "          u'tourism': u'wine_cellar'},\n",
      " u'type': u'node'}\n",
      "{u'_id': ObjectId('5686ecf4cf4e09e2ffdc0b0d'),\n",
      " u'address': {u'city': u'Monzingen',\n",
      "              u'country': u'DE',\n",
      "              u'housename': u'Living Room',\n",
      "              u'housenumber': u'41',\n",
      "              u'postcode': u'55569',\n",
      "              u'street': u'Soonwaldstra\\xdfe'},\n",
      " u'contact': {u'email': u'info@weingut-udo-weber.de',\n",
      "              u'fax': u'+49 6751 2076',\n",
      "              u'phone': u'+49 6751 3278',\n",
      "              u'website': u'http://www.weingut-udo-weber.de'},\n",
      " u'created': {u'changeset': u'13478987',\n",
      "              u'timestamp': u'2012-10-13T13:23:36Z',\n",
      "              u'uid': u'39424',\n",
      "              u'user': u'atressel',\n",
      "              u'version': u'5'},\n",
      " u'id': u'1415935217',\n",
      " u'pos': [49.803987, 7.5891891],\n",
      " u'tag': {u'landuse': u'farmyard',\n",
      "          u'name': u'Weingut Weber',\n",
      "          u'shop': u'winery',\n",
      "          u'tourism': u'wine_cellar'},\n",
      " u'type': u'node'}\n",
      "{u'_id': ObjectId('5686ecf4cf4e09e2ffdc0c2b'),\n",
      " u'address': {u'city': u'Monzingen',\n",
      "              u'country': u'DE',\n",
      "              u'housename': u'Living Room',\n",
      "              u'housenumber': u'67',\n",
      "              u'postcode': u'55569',\n",
      "              u'street': u'Hauptstra\\xdfe'},\n",
      " u'contact': {u'email': u'info@weingut-alt.de',\n",
      "              u'phone': u'+49 6751 94560',\n",
      "              u'website': u'www.weingut-alt.de'},\n",
      " u'created': {u'changeset': u'16517308',\n",
      "              u'timestamp': u'2013-06-11T23:06:44Z',\n",
      "              u'uid': u'461945',\n",
      "              u'user': u'poppei82',\n",
      "              u'version': u'6'},\n",
      " u'id': u'1426340194',\n",
      " u'pos': [49.8004004, 7.5912087],\n",
      " u'tag': {u'landuse': u'farmyard',\n",
      "          u'name': u'Weingut Alt',\n",
      "          u'shop': u'winery',\n",
      "          u'tourism': u'attraction'},\n",
      " u'type': u'node'}\n",
      "{u'_id': ObjectId('5686ecffcf4e09e2ffde163e'),\n",
      " u'created': {u'changeset': u'33053769',\n",
      "              u'timestamp': u'2015-08-02T18:16:35Z',\n",
      "              u'uid': u'104912',\n",
      "              u'user': u'Sir Lancelot',\n",
      "              u'version': u'1'},\n",
      " u'id': u'3677884318',\n",
      " u'pos': [49.865314, 7.810936],\n",
      " u'tag': {u'amenity': u'pub', u'name': u'Weingut Heil', u'shop': u'winery'},\n",
      " u'type': u'node'}\n",
      "[{u'_id': u'bench', u'count': 556},\n",
      " {u'_id': u'parking', u'count': 405},\n",
      " {u'_id': u'restaurant', u'count': 122},\n",
      " {u'_id': u'hunting_stand', u'count': 101},\n",
      " {u'_id': u'place_of_worship', u'count': 98},\n",
      " {u'_id': u'recycling', u'count': 59},\n",
      " {u'_id': u'shelter', u'count': 55},\n",
      " {u'_id': u'school', u'count': 54},\n",
      " {u'_id': u'post_box', u'count': 51},\n",
      " {u'_id': u'bank', u'count': 45},\n",
      " {u'_id': u'kindergarten', u'count': 33},\n",
      " {u'_id': u'fountain', u'count': 30},\n",
      " {u'_id': u'telephone', u'count': 28},\n",
      " {u'_id': u'fast_food', u'count': 27},\n",
      " {u'_id': u'pub', u'count': 27},\n",
      " {u'_id': u'cafe', u'count': 27},\n",
      " {u'_id': u'fire_station', u'count': 25},\n",
      " {u'_id': u'doctors', u'count': 23},\n",
      " {u'_id': u'pharmacy', u'count': 20},\n",
      " {u'_id': u'fuel', u'count': 20},\n",
      " {u'_id': u'toilets', u'count': 19},\n",
      " {u'_id': u'townhall', u'count': 19},\n",
      " {u'_id': u'grave_yard', u'count': 18},\n",
      " {u'_id': u'community_centre', u'count': 18},\n",
      " {u'_id': u'social_facility', u'count': 15},\n",
      " {u'_id': u'bbq', u'count': 14},\n",
      " {u'_id': u'public_building', u'count': 11},\n",
      " {u'_id': u'hospital', u'count': 10},\n",
      " {u'_id': u'vending_machine', u'count': 10},\n",
      " {u'_id': u'dentist', u'count': 9},\n",
      " {u'_id': u'post_office', u'count': 9},\n",
      " {u'_id': u'car_wash', u'count': 8},\n",
      " {u'_id': u'atm', u'count': 8},\n",
      " {u'_id': u'veterinary', u'count': 7},\n",
      " {u'_id': u'bar', u'count': 7},\n",
      " {u'_id': u'biergarten', u'count': 7},\n",
      " {u'_id': u'swimming_pool', u'count': 6},\n",
      " {u'_id': u'bicycle_parking', u'count': 6},\n",
      " {u'_id': u'grit_bin', u'count': 5},\n",
      " {u'_id': u'arts_centre', u'count': 4},\n",
      " {u'_id': u'bus_station', u'count': 3},\n",
      " {u'_id': u'courthouse', u'count': 3},\n",
      " {u'_id': u'police', u'count': 3},\n",
      " {u'_id': u'driving_school', u'count': 3},\n",
      " {u'_id': u'library', u'count': 3},\n",
      " {u'_id': u'waste_disposal', u'count': 3},\n",
      " {u'_id': u'ferry_terminal', u'count': 2},\n",
      " {u'_id': u'casino', u'count': 2},\n",
      " {u'_id': u'clock', u'count': 2},\n",
      " {u'_id': u'food_court', u'count': 2},\n",
      " {u'_id': u'drinking_water', u'count': 2},\n",
      " {u'_id': u'taxi', u'count': 2},\n",
      " {u'_id': u'nursing_home', u'count': 1},\n",
      " {u'_id': u'nightclub', u'count': 1},\n",
      " {u'_id': u'community_center', u'count': 1},\n",
      " {u'_id': u'sanitary_dump_station', u'count': 1},\n",
      " {u'_id': u'baby_hatch', u'count': 1},\n",
      " {u'_id': u'marketplace', u'count': 1},\n",
      " {u'_id': u'bureau_de_change', u'count': 1},\n",
      " {u'_id': u'cinema', u'count': 1},\n",
      " {u'_id': u'emergency_service', u'count': 1},\n",
      " {u'_id': u'waste_basket', u'count': 1},\n",
      " {u'_id': u'car_rental', u'count': 1},\n",
      " {u'_id': u'theatre', u'count': 1},\n",
      " {u'_id': u'blood_donation', u'count': 1},\n",
      " {u'_id': u'charging_station', u'count': 1},\n",
      " {u'_id': u'ambulance_station', u'count': 1},\n",
      " {u'_id': u'rescue_station', u'count': 1},\n",
      " {u'_id': u'studio', u'count': 1},\n",
      " {u'_id': u'parking_space', u'count': 1},\n",
      " {u'_id': u'animal_shelter', u'count': 1},\n",
      " {u'_id': u'brothel', u'count': 1},\n",
      " {u'_id': u'winery', u'count': 1}]\n"
     ]
    }
   ],
   "source": [
    "import pprint\n",
    "from pymongo import MongoClient\n",
    "\n",
    "def get_db():    \n",
    "    client = MongoClient('localhost',27017)\n",
    "    db = client['test']\n",
    "    coll = db.P3_Meddersheim_Germany\n",
    "    return db\n",
    "\n",
    "#getting wineries \n",
    "def range_query():\n",
    "    query = {\"tag.shop\":\"winery\"}\n",
    "    return query\n",
    "    \n",
    "#getting types of nodes  \n",
    "def make_pipeline():\n",
    "    pipeline = []\n",
    "    #count types of nodes and get them\n",
    "    pipeline = [{\"$match\":{\"type\":\"node\",\"type\":{\"$ne\":None},\"tag.amenity\":{\"$ne\":None}}},\n",
    "                {\"$group\":{\"_id\":\"$tag.amenity\",\"count\":{\"$sum\":1}}},\n",
    "                {\"$sort\":{\"count\":-1}}]\n",
    "    #alternative pipeline for checking which type is the right one\n",
    "    #pipeline = [{\"$match\":{\"openGeoDB.type\":{\"$ne\":None}}},\n",
    "    #            {\"$group\":{\"_id\":\"$openGeoDB.type\",\"count\":{\"$sum\":1}}},\n",
    "    #            {\"$sort\":{\"count\":-1}}]\n",
    "    #print pipeline\n",
    "    return pipeline\n",
    "\n",
    "def osm_sources(db, pipeline):\n",
    "    return [doc for doc in db.P3_Meddersheim_Germany.aggregate(pipeline)]\n",
    "\n",
    "if __name__ == '__main__':\n",
    "    #read_file(street_map_file)\n",
    "    db = get_db()\n",
    "    pipeline = make_pipeline()\n",
    "    query = range_query()\n",
    "    result_id = db.P3_Meddersheim_Germany.find(query)\n",
    "    result = osm_sources(db, pipeline)\n",
    "    for r in result_id:\n",
    "        pprint.pprint(r)\n",
    "    pprint.pprint(result)"
   ]
  },
  {
   "cell_type": "markdown",
   "metadata": {
    "collapsed": false,
    "scrolled": true
   },
   "source": [
    "# Problems encountered in your map"
   ]
  },
  {
   "cell_type": "markdown",
   "metadata": {
    "collapsed": true
   },
   "source": [
    "Encode original xml-data in that way so that german characters are readable via setting 'utf8' encoding. The original py-file also defines '-*- coding: utf-8 -*-' at the beginning of the coding file. Then write the re-shaped data in json-Format in a file. Before 'shape_element' is called for re-shaping."
   ]
  },
  {
   "cell_type": "code",
   "execution_count": null,
   "metadata": {
    "collapsed": true
   },
   "outputs": [],
   "source": [
    " for event, element in ET.iterparse(street_map_file):\n",
    "    #shape element (see below for what is done)\n",
    "    el = shape_element(element)\n",
    "    if el != {}:\n",
    "        #set german characters is readable\n",
    "        json_data = json.dumps(el, ensure_ascii = False, indent = 2).encode('utf8') +\"\\n\"\n",
    "        json_data_array.append(json_data)\n",
    "    #write re-shaped data in in json-file\n",
    "    f = open(\"P3_Meddersheim_Germany\",'w')\n",
    "    f.writelines(json_data_array)\n",
    "    f.close()"
   ]
  },
  {
   "cell_type": "markdown",
   "metadata": {
    "collapsed": true
   },
   "source": [
    "Separate the 'addr:'-tag by splitting at the separator colon. The method is called from 'def shape_element(element):'"
   ]
  },
  {
   "cell_type": "code",
   "execution_count": null,
   "metadata": {
    "collapsed": true
   },
   "outputs": [],
   "source": [
    "#separate definition in case 'addr:' is available in different data types\n",
    "def address_element(child_name, child):\n",
    "    child_name = child_name.replace(\"addr:\",\"\")\n",
    "    child_name = child_name.split(\":\")\n",
    "    if len(child_name)<2:\n",
    "        add_address[child_name[0]] = child.get('v')\n",
    "    return add_address"
   ]
  },
  {
   "cell_type": "markdown",
   "metadata": {
    "collapsed": true
   },
   "source": [
    "Define needed arrays and dictionary for further re-shaping, splitting and organizing the original xml-data and preparing for writing in json-format. At last get type of tag. I tried this type of coding to try a two different ways of re-shaping data. This is only for 'addr:'-tags. Below I used the separator 'colon'for shaping the 'tag'-tags. Main idea was to separat the 'contact:'-data in an own dictionary."
   ]
  },
  {
   "cell_type": "code",
   "execution_count": null,
   "metadata": {
    "collapsed": true
   },
   "outputs": [],
   "source": [
    "def shape_element(element):\n",
    "    node = {}\n",
    "    openGeoDB = {}\n",
    "    auto_update = []\n",
    "    is_in = []\n",
    "    position = []\n",
    "    node_refs = []\n",
    "    relation_member_attrib = []\n",
    "    relation_member = []\n",
    "    add_created = {}\n",
    "    tag_sep = []\n",
    "    tag_sep_dict = {}\n",
    "    relation_tag_attrib = {}\n",
    "    child_name = None\n",
    "    #set type of parsed data based on tag\n",
    "    if element.tag ==\"bounds\" or element.tag == \"note\" or element.tag == \"meta\" or element.tag == \"osm\" or\\\n",
    "    element.tag == \"node\" or element.tag == \"way\" or element.tag == \"relation\":\n",
    "        node[\"type\"] = element.tag"
   ]
  },
  {
   "cell_type": "markdown",
   "metadata": {
    "collapsed": true
   },
   "source": [
    "Just to complete get information from tags in xml-file which only appear once."
   ]
  },
  {
   "cell_type": "code",
   "execution_count": null,
   "metadata": {
    "collapsed": true
   },
   "outputs": [],
   "source": [
    "# get information from tags which only appear once\n",
    "    if element.tag ==\"bounds\" or element.tag == \"note\" or element.tag == \"meta\" or element.tag == \"osm\":\n",
    "        if element.tag == \"note\":\n",
    "            node[element.tag] = element.text\n",
    "        else:\n",
    "            node[element.tag] = element.attrib\n",
    "            #print node"
   ]
  },
  {
   "cell_type": "markdown",
   "metadata": {
    "collapsed": true
   },
   "source": [
    "Ensure to get all 'openGeoDB' tags, even those with small letters. Prepare for later separation of this tag and saving in own dictionary 'openGeoDB'."
   ]
  },
  {
   "cell_type": "code",
   "execution_count": null,
   "metadata": {
    "collapsed": true
   },
   "outputs": [],
   "source": [
    "#shape data\n",
    "    for child in element:\n",
    "        child_name = child.get('k')\n",
    "        p = re.compile('openGeoDB:', re.IGNORECASE)     "
   ]
  },
  {
   "cell_type": "markdown",
   "metadata": {
    "collapsed": true
   },
   "source": [
    "Prepare all data within 'is_in' within an array. Split at separator comma. There is also another 'is_in' field within 'openGeoDB'. Put also an array there, but also export this field to json-format."
   ]
  },
  {
   "cell_type": "code",
   "execution_count": null,
   "metadata": {
    "collapsed": true
   },
   "outputs": [],
   "source": [
    "#put data in an array, because it is a list of descriptive location\n",
    "        if child_name == \"is_in\":\n",
    "            is_in = child.get('v').split(',')\n",
    "            node[child_name]=is_in       "
   ]
  },
  {
   "cell_type": "markdown",
   "metadata": {
    "collapsed": true
   },
   "source": [
    "The xml-data from 'auto_update' are stored in the array 'auto_update' and splitted by the separator comma. Further the same is done for 'is_in' and both information are stored within the dictionary 'openGeoDB'.\n",
    "The position data from all tags are taken from the longitude and latitude information and put together in the array 'position'. Also stored in the dictionary 'openGeoDB' within the dictionary 'node'."
   ]
  },
  {
   "cell_type": "code",
   "execution_count": null,
   "metadata": {
    "collapsed": true
   },
   "outputs": [],
   "source": [
    "# get all data which contain 'openGeoDB' also in small letters\n",
    "        elif child_name != None and re.search(p,child_name) != None:\n",
    "            child_name = p.sub(\"\", child_name)\n",
    "            if child_name == 'auto_update':\n",
    "                auto_update = child.get('v').split(',')\n",
    "                openGeoDB[child_name]=auto_update\n",
    "            elif child_name == \"is_in\":\n",
    "                is_in = child.get('v').split(',')\n",
    "                openGeoDB[child_name]=is_in\n",
    "            elif child_name == 'lat':\n",
    "                position.append(float(child.get('v')))\n",
    "            elif child_name == 'lon':\n",
    "                position.append(float(child.get('v')))\n",
    "            else:\n",
    "                openGeoDB[child_name] = child.get('v')\n",
    "            # put latitude and longitude data in an array which are inside 'openGeoDB' data\n",
    "            openGeoDB['position'] = position\n",
    "            node['openGeoDB'] = openGeoDB\n",
    "            #print node"
   ]
  },
  {
   "cell_type": "markdown",
   "metadata": {
    "collapsed": true
   },
   "source": [
    "Put all reference information from separate xml-tags together in one array 'node_refs'."
   ]
  },
  {
   "cell_type": "code",
   "execution_count": null,
   "metadata": {
    "collapsed": true
   },
   "outputs": [],
   "source": [
    "#check all data which contain a 'ref'-tag\n",
    "        elif child.get('ref') != None:\n",
    "                node_refs.append(child.get('ref'))\n",
    "                node['node_refs'] = node_refs       "
   ]
  },
  {
   "cell_type": "markdown",
   "metadata": {
    "collapsed": true
   },
   "source": [
    "Here the 'def address-element(child_name, child)' is called to re-shape the tag 'addr:'. Furthermore separate the other other information by the separator colon and use value before first separator and value after last separator for defining information in json-format.\n",
    "Otherwise use tag with 'k'(key)-information and 'v'(value)-information for creating key-value pairs in key-value-dictionary whithin 'tag' dictionary. Keep 'tag' as separate dictionary because at least 'type' is also available as key in node-dictionary.\n",
    "Main idead was to separate the 'contact:'-data in an own dictionary to reach easier email and phone information from contact dictionary."
   ]
  },
  {
   "cell_type": "code",
   "execution_count": null,
   "metadata": {
    "collapsed": true
   },
   "outputs": [],
   "source": [
    "#shape all data in 'tag'-tag because some names are the same like in nodes => type, so cluster 'tag' is kept\n",
    "        elif child.tag == \"tag\":\n",
    "            child_name = child.get('k')\n",
    "            #shape address data in dictionary address\n",
    "            if child_name != None and child.get('k').startswith(\"addr:\"):\n",
    "                add_address = address_element(child_name, child)\n",
    "                node[\"address\"]=add_address\n",
    "            #shape all other data which use ':' as a separator depending on amount of this separator\n",
    "            elif re.search(':', child_name) != None:\n",
    "                tag_sep = child_name.split(':')\n",
    "                i.append(len(tag_sep))\n",
    "                if len(tag_sep) == 2:\n",
    "                    tag_sep_dict[tag_sep[1]] = child.get('v') \n",
    "                    node[tag_sep[0]] = tag_sep_dict\n",
    "                elif len(tag_sep) == 3:\n",
    "                    tag_sep_dict[tag_sep[2]] = child.get('v') \n",
    "                    node[tag_sep[0]] = tag_sep_dict\n",
    "                elif len(tag_sep) == 4:\n",
    "                    tag_sep_dict[tag_sep[3]] = child.get('v') \n",
    "                    node[tag_sep[0]] = tag_sep_dict   \n",
    "            else:\n",
    "                relation_tag_attrib[child.get('k')] = child.get('v')\n",
    "                node['tag'] = relation_tag_attrib         "
   ]
  },
  {
   "cell_type": "markdown",
   "metadata": {
    "collapsed": true
   },
   "source": [
    "Get member data and shape for json-format."
   ]
  },
  {
   "cell_type": "code",
   "execution_count": null,
   "metadata": {
    "collapsed": true
   },
   "outputs": [],
   "source": [
    "#shape 'member'-tag data in dicitionary 'member' inside dictionary node\n",
    "        elif child.tag == \"member\":\n",
    "                #print child.get('type')\n",
    "                relation_member_attrib = child.get('type'), child.get('ref'), child.get('role')\n",
    "                relation_member.append(relation_member_attrib)\n",
    "                node['member'] = relation_member\n",
    "        else:\n",
    "            if child_name != None:\n",
    "                node[child_name]=child.get('v')"
   ]
  },
  {
   "cell_type": "markdown",
   "metadata": {
    "collapsed": true
   },
   "source": [
    "Put header-information together in a dictionary 'created'. Like done in lesson 6 - Case Study."
   ]
  },
  {
   "cell_type": "code",
   "execution_count": null,
   "metadata": {
    "collapsed": true
   },
   "outputs": [],
   "source": [
    "#shape tag header-data in 'CREATED' dictionary, see lesson 6 - Case Study - OpenStreetMap data\n",
    "    for elem in element.attrib:\n",
    "        for entry in CREATED:\n",
    "            if elem == entry and elem != None:\n",
    "                if element.get(entry) != None:\n",
    "                    add_created[elem] = element.get(entry)\n",
    "            elif elem == \"id\" and elem != None:\n",
    "                if element.get(elem) != None:\n",
    "                    node[elem] = element.get(elem) "
   ]
  },
  {
   "cell_type": "markdown",
   "metadata": {
    "collapsed": true
   },
   "source": [
    "Shape longitude and latitude data in node dictionary in an array 'position'. These data define the position of each node."
   ]
  },
  {
   "cell_type": "code",
   "execution_count": null,
   "metadata": {
    "collapsed": true
   },
   "outputs": [],
   "source": [
    "#shape position data in positin array for each data-element\n",
    "    if element.get != None and element.get('lat') or element.get('lon'):\n",
    "        position = []\n",
    "        position.append(float(element.get('lat')))   \n",
    "        position.append(float(element.get('lon')))\n",
    "        node[\"pos\"]= position\n",
    "    if len(add_created) > 1:\n",
    "        node[\"created\"] = add_created\n",
    "    return node"
   ]
  },
  {
   "cell_type": "markdown",
   "metadata": {},
   "source": [
    "# Other ideas about the datasets"
   ]
  },
  {
   "cell_type": "markdown",
   "metadata": {},
   "source": [
    "1. The field 'is_in' is available twice in the dictionary node and seems to contain the same data. The second time it is stored in node => openGeoDB => is_in dictionary and could be checked if those data are really the same compared to what is directly stored in node => is_in.\n",
    "2. Independent from the tag-type I re-shaped and exported the xml-data in json-format with encoding utf8 for reading german characters. The encoding for the Mongo DB is not yet implemented. But could be done later.\n",
    "3. The contact data could be grouped according to the 'amenity or shop'-type and contacted for services (e. g. winery services and equipment, vineyard or restaurants support, holiday and tourism service)."
   ]
  }
 ],
 "metadata": {
  "kernelspec": {
   "display_name": "Python 2",
   "language": "python",
   "name": "python2"
  },
  "language_info": {
   "codemirror_mode": {
    "name": "ipython",
    "version": 2
   },
   "file_extension": ".py",
   "mimetype": "text/x-python",
   "name": "python",
   "nbconvert_exporter": "python",
   "pygments_lexer": "ipython2",
   "version": "2.7.11"
  }
 },
 "nbformat": 4,
 "nbformat_minor": 0
}
